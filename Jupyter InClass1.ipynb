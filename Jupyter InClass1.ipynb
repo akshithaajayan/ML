{
 "cells": [
  {
   "cell_type": "markdown",
   "metadata": {},
   "source": [
    "# Akshitha Ajayan Jupyter In-Class"
   ]
  },
  {
   "cell_type": "markdown",
   "metadata": {},
   "source": [
    "## Import Data"
   ]
  },
  {
   "cell_type": "code",
   "execution_count": 126,
   "metadata": {},
   "outputs": [],
   "source": [
    "from sklearn.datasets import load_boston\n",
    "import numpy as np\n",
    "import matplotlib.pyplot as plt\n",
    "from numpy import linalg as LA\n",
    "import random\n",
    "\n",
    "data, target = load_boston(return_X_y=True)"
   ]
  },
  {
   "cell_type": "markdown",
   "metadata": {},
   "source": [
    "## Least Sqaures with 5-Fold CV"
   ]
  },
  {
   "cell_type": "code",
   "execution_count": 158,
   "metadata": {
    "scrolled": true
   },
   "outputs": [
    {
     "name": "stdout",
     "output_type": "stream",
     "text": [
      "The average prediction error from 5-fold CV:  58.67289504102067\n"
     ]
    },
    {
     "data": {
      "image/png": "[encoded data removed]",
      "text/plain": [
       "<Figure size 432x288 with 1 Axes>"
      ]
     },
     "metadata": {
      "needs_background": "light"
     },
     "output_type": "display_data"
    }
   ],
   "source": [
    "def LS(data, labels):\n",
    "    w_hat = np.matmul(np.matmul(LA.inv(np.matmul(np.transpose(data), data)), np.transpose(data)), labels)\n",
    "    return w_hat\n",
    "    \n",
    "def LS_error(X, labels, w_hat):\n",
    "    y_est = np.matmul(X, w_hat)\n",
    "    error = LA.norm(labels-y_est)\n",
    "    return y_est, error\n",
    "\n",
    "X = np.ones((len(data), 14))\n",
    "for i in range(0, len(data)):\n",
    "    for j in range(0, 13):\n",
    "        X[i, j] = data[i, j]\n",
    "        \n",
    "test1 = X[0:101, :]\n",
    "testlab1 = target[0:101]\n",
    "train1 = X[101:506, :]\n",
    "label1 = target[101:506]\n",
    "\n",
    "test2 = X[101:202, :]\n",
    "testlab2 = target[101:202]\n",
    "train2 = np.concatenate((X[0:101, :], X[202:506, :]))\n",
    "label2 = np.concatenate((target[0:101], target[202:506]))\n",
    "\n",
    "test3 = X[202:303, :]\n",
    "testlab3 = target[202:303]\n",
    "train3 = np.concatenate((X[0:202, :], X[303:506, :]))\n",
    "label3 = np.concatenate((target[0:202], target[303:506]))\n",
    "\n",
    "test4 = X[303:404, :]\n",
    "testlab4 = target[303:404]\n",
    "train4 = np.concatenate((X[0:303, :], X[404:506, :]))\n",
    "label4 = np.concatenate((target[0:303], target[404:506]))\n",
    "\n",
    "test5 = X[404:506, :]\n",
    "testlab5 = target[404:506]\n",
    "train5 = X[0:404, :]\n",
    "label5 = target[0:404]\n",
    "\n",
    "w1 = LS(train1, label1)\n",
    "y1, err1 = LS_error(test1, testlab1, w1)\n",
    "\n",
    "w2 = LS(train2, label2)\n",
    "y2, err2 = LS_error(test2, testlab2, w2)\n",
    "\n",
    "w3 = LS(train3, label3)\n",
    "y3, err3 = LS_error(test3, testlab3, w3)\n",
    "\n",
    "w4 = LS(train4, label4)\n",
    "y4, err4 = LS_error(test4, testlab4, w4)\n",
    "\n",
    "w5 = LS(train5, label5)\n",
    "y5, err5 = LS_error(test5, testlab5, w5)\n",
    "\n",
    "avg = (err1+err2+err3+err4+err5)/5\n",
    "print(\"The average prediction error from 5-fold CV: \", avg)\n",
    "\n",
    "plt.scatter(testlab1, y1, c='g')\n",
    "plt.plot(testlab1,testlab1, 'b')\n",
    "plt.title(\"Measured vs Predicted Target\")\n",
    "plt.xlabel(\"Measured Target\")\n",
    "plt.ylabel(\"Predicted Target\")\n",
    "plt.show()"
   ]
  },
  {
   "cell_type": "markdown",
   "metadata": {},
   "source": [
    "## Ridge Regression "
   ]
  },
  {
   "cell_type": "code",
   "execution_count": 155,
   "metadata": {},
   "outputs": [
    {
     "name": "stdout",
     "output_type": "stream",
     "text": [
      "The average prediction error from 5-fold CV:  54.06690636080937\n",
      "From index:  89\n",
      "Thus, the best lambda value: 9.888888888888888\n"
     ]
    }
   ],
   "source": [
    "def RR(data, labels, lam):\n",
    "    w_hat = np.matmul(np.matmul(LA.inv(np.matmul(np.transpose(data), data)+lam*np.identity(14)), np.transpose(data)), labels)\n",
    "    return w_hat\n",
    "    \n",
    "def RR_error(X, labels, w_hat):\n",
    "    y_est = np.matmul(X, w_hat)\n",
    "    error = LA.norm(labels-y_est)\n",
    "    return y_est, error\n",
    "\n",
    "#w_hat = RR(X, target, 1)\n",
    "#print(w_hat.shape)\n",
    "#LS_error(X, target, w_hat)\n",
    "lam = np.linspace(0, 10, num=91)\n",
    "err1 = np.zeros(91)\n",
    "err2 = np.zeros(91)\n",
    "err3 = np.zeros(91)\n",
    "err4 = np.zeros(91)\n",
    "err5 = np.zeros(91)\n",
    "avg = np.zeros(91)\n",
    "\n",
    "for i in range(0, len(lam)):\n",
    "    w1 = RR(train1, label1, lam[i])\n",
    "    y1, err1[i] = RR_error(test1, testlab1, w1)\n",
    "\n",
    "    w2 = RR(train2, label2, lam[i])\n",
    "    y2, err2[i] = RR_error(test2, testlab2, w2)\n",
    "\n",
    "    w3 = RR(train3, label3, lam[i])\n",
    "    y3, err3[i] = RR_error(test3, testlab3, w3)\n",
    "\n",
    "    w4 = RR(train4, label4, lam[i])\n",
    "    y4, err4[i] = RR_error(test4, testlab4, w4)\n",
    "\n",
    "    w5 = RR(train5, label5, lam[i])\n",
    "    y5, err5[i] = RR_error(test5, testlab5, w5)\n",
    "    \n",
    "    avg[i] = (err1[i]+err2[i]+err3[i]+err4[i]+err5[i])/5\n",
    "\n",
    "print(\"The average prediction error from 5-fold CV: \", np.min(avg))\n",
    "print(\"From index: \", np.argmin(avg))    \n",
    "print(\"Thus, the best lambda value:\", lam[np.argmin(avg)])"
   ]
  },
  {
   "cell_type": "code",
   "execution_count": null,
   "metadata": {},
   "outputs": [],
   "source": []
  },
  {
   "cell_type": "code",
   "execution_count": null,
   "metadata": {},
   "outputs": [],
   "source": []
  }
 ],
 "metadata": {
  "kernelspec": {
   "display_name": "Python 3",
   "language": "python",
   "name": "python3"
  },
  "language_info": {
   "codemirror_mode": {
    "name": "ipython",
    "version": 3
   },
   "file_extension": ".py",
   "mimetype": "text/x-python",
   "name": "python",
   "nbconvert_exporter": "python",
   "pygments_lexer": "ipython3",
   "version": "3.5.6"
  }
 },
 "nbformat": 4,
 "nbformat_minor": 2
}
